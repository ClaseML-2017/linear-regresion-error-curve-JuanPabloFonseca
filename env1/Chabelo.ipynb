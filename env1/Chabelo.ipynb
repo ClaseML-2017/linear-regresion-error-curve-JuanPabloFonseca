{
 "cells": [
  {
   "cell_type": "markdown",
   "metadata": {},
   "source": [
    "# Chabelo\n",
    "1. 3 doors, 1 is the winning door, 1 is chosen by the contestant\n",
    "2. Chabelo opens a door that is not the winning door or the one chosen by the contestant\n",
    "3. The contestant chooses whether to switch doors or not\n",
    "\n",
    "Create a simulation and compare the win rate if the contestan switches doors or not.\n",
    "\n",
    "import random as rand\n",
    "rand.randint(firstNumber, secondNumber) where firstNumber <= rand <= secondNumber\n",
    "\n",
    "rand.choice(array)"
   ]
  },
  {
   "cell_type": "code",
   "execution_count": 27,
   "metadata": {},
   "outputs": [
    {
     "name": "stdout",
     "output_type": "stream",
     "text": [
      "The probability of winning if the player keeps his original door is: \n",
      "32.78%\n",
      "\n",
      "The probability of winning if the player changes doors is: \n",
      "67.22%\n",
      "\n",
      "So the player should change doors!\n"
     ]
    }
   ],
   "source": [
    "import random as rd\n",
    "from __future__ import division\n",
    "\n",
    "winsIfNotChange = 0\n",
    "winsIfChange = 0\n",
    "totalRuns = 0\n",
    "\n",
    "for i in range(0,10000): # Say, 10000 runs\n",
    "    prizePosition = rd.randint(0,2) # the prize door NUMBER is assigned randomly (but the host knows which one it is...)\n",
    "\n",
    "    behindDoors = [0,0,0] # three doors, 0 means no prize and 1 means a prize\n",
    "    behindDoors[prizePosition]=1; # the prize is assigned \n",
    "\n",
    "    playerSelection = rd.randint(0,2) # the player chooses his door (the door NUMBER)\n",
    "    if behindDoors[playerSelection] == 1: # if he selected the winning door\n",
    "        hostDiscards = rd.randint(0,1) # the host chooses randomly from the two other doors\n",
    "        if(playerSelection == 0): # if player selected the first door\n",
    "            hostDiscards+=1\n",
    "        if(playerSelection == 1 and hostDiscards == 1):\n",
    "            hostDiscards+=1\n",
    "    else: # if he selects a door with no prize\n",
    "        behindDoors[playerSelection]=2\n",
    "        hostDiscards = behindDoors.index(0) # the host selects the other door with no prize\n",
    "        behindDoors[playerSelection]=0\n",
    "\n",
    "    # Let's say the player keeps his original door\n",
    "    if(behindDoors[playerSelection] == 1):\n",
    "        winsIfNotChange+=1\n",
    "\n",
    "    # Let's say the player changes doors\n",
    "    if(behindDoors.index(1) != playerSelection):\n",
    "        winsIfChange+=1\n",
    "    \n",
    "    totalRuns+=1\n",
    "\n",
    "print \"The probability of winning if the player keeps his original door is: \"\n",
    "print str(winsIfNotChange*100/totalRuns) + \"%\"\n",
    "print \"\"\n",
    "print \"The probability of winning if the player changes doors is: \"\n",
    "print str(winsIfChange*100/totalRuns) + \"%\"\n",
    "print \"\"\n",
    "\n",
    "if(winsIfNotChange > winsIfChange):\n",
    "    print \"So the player should not change doors!\"\n",
    "else:\n",
    "    print \"So the player should change doors!\""
   ]
  },
  {
   "cell_type": "code",
   "execution_count": null,
   "metadata": {
    "collapsed": true
   },
   "outputs": [],
   "source": []
  },
  {
   "cell_type": "code",
   "execution_count": null,
   "metadata": {
    "collapsed": true
   },
   "outputs": [],
   "source": []
  }
 ],
 "metadata": {
  "kernelspec": {
   "display_name": "Python 2",
   "language": "python",
   "name": "python2"
  },
  "language_info": {
   "codemirror_mode": {
    "name": "ipython",
    "version": 2
   },
   "file_extension": ".py",
   "mimetype": "text/x-python",
   "name": "python",
   "nbconvert_exporter": "python",
   "pygments_lexer": "ipython2",
   "version": "2.7.6"
  }
 },
 "nbformat": 4,
 "nbformat_minor": 2
}
